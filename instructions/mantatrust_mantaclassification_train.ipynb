{
  "nbformat": 4,
  "nbformat_minor": 0,
  "metadata": {
    "colab": {
      "provenance": [],
      "gpuType": "T4"
    },
    "kernelspec": {
      "name": "python3",
      "display_name": "Python 3"
    },
    "language_info": {
      "name": "python"
    },
    "accelerator": "GPU"
  },
  "cells": [
    {
      "cell_type": "code",
      "source": [
        "#@title set here input parameters\n",
        "dataset_link='1urs0XvHI5AchrmBoNC0ngpTSg8ZBtgIE' #link of dataset file on gdrive\n",
        "dataset_filename='dataset_manta_cls4'\n",
        "model_link='1X3jfGehuOEfyBeD32bDmIljTKjKCK1YG'   #link of model on gdrive"
      ],
      "metadata": {
        "id": "0uzwEmJ3K_zt"
      },
      "execution_count": null,
      "outputs": []
    },
    {
      "cell_type": "code",
      "source": [
        "#@title download train dataset\n",
        "dataset_filename_zip=dataset_filename+'.zip'\n",
        "!gdown {dataset_link}\n",
        "!unzip -q {dataset_filename_zip}\n",
        "!rm {dataset_filename_zip}"
      ],
      "metadata": {
        "id": "nTHYgk5OCKzq"
      },
      "execution_count": null,
      "outputs": []
    },
    {
      "cell_type": "code",
      "source": [
        "#@title download last model to be improved with new training\n",
        "!gdown {model_link} -O manta-cls.pt"
      ],
      "metadata": {
        "id": "FF-ro822JtLf"
      },
      "execution_count": null,
      "outputs": []
    },
    {
      "cell_type": "code",
      "execution_count": null,
      "metadata": {
        "id": "ZdoH3flW6Gu0"
      },
      "outputs": [],
      "source": [
        "!pip install -q ultralytics"
      ]
    },
    {
      "cell_type": "code",
      "source": [
        "from ultralytics import YOLO\n",
        "model = YOLO(\"manta-cls.pt\")\n"
      ],
      "metadata": {
        "id": "gngb9mEtCTBv"
      },
      "execution_count": null,
      "outputs": []
    },
    {
      "cell_type": "code",
      "source": [
        "results = model.train(data=dataset_filename, epochs=100, imgsz=640,multi_scale=True,patience=10)"
      ],
      "metadata": {
        "id": "BtSC7ZGcCbrh"
      },
      "execution_count": null,
      "outputs": []
    }
  ]
}