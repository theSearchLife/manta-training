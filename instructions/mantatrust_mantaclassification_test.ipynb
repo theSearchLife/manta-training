{
  "nbformat": 4,
  "nbformat_minor": 0,
  "metadata": {
    "colab": {
      "provenance": []
    },
    "kernelspec": {
      "name": "python3",
      "display_name": "Python 3"
    },
    "language_info": {
      "name": "python"
    }
  },
  "cells": [
    {
      "cell_type": "code",
      "source": [
        "!pip install ultralytics"
      ],
      "metadata": {
        "id": "duRBAcf91H8x"
      },
      "execution_count": null,
      "outputs": []
    },
    {
      "cell_type": "code",
      "source": [
        "import os\n",
        "import pandas as pd\n",
        "from sklearn.metrics import roc_auc_score, accuracy_score, confusion_matrix, roc_curve, auc\n",
        "import matplotlib.pyplot as plt\n",
        "import numpy as np\n",
        "import cv2"
      ],
      "metadata": {
        "id": "bumVMyFr1TGp"
      },
      "execution_count": 2,
      "outputs": []
    },
    {
      "cell_type": "code",
      "execution_count": 3,
      "metadata": {
        "colab": {
          "base_uri": "https://localhost:8080/"
        },
        "id": "jiHZqwxvzoiG",
        "outputId": "b1c9fda4-7af8-4b59-edbf-1959a247ef52"
      },
      "outputs": [
        {
          "output_type": "stream",
          "name": "stdout",
          "text": [
            "Downloading...\n",
            "From: https://drive.google.com/uc?id=18w0S7HyAp-2dpn9E613oKYQ_Z00jfsiW\n",
            "To: /content/yolo11cls_manta_640_grayscale.pt\n",
            "\r  0% 0.00/3.19M [00:00<?, ?B/s]\r100% 3.19M/3.19M [00:00<00:00, 188MB/s]\n"
          ]
        }
      ],
      "source": [
        "#@title download model\n",
        "!gdown 18w0S7HyAp-2dpn9E613oKYQ_Z00jfsiW"
      ]
    },
    {
      "cell_type": "code",
      "source": [
        "#@ download test images\n",
        "!gdown 12KGoBpUc0DpfJUbHRDBWWXT0dfmEhEyb\n",
        "!unzip mantatrust_test.zip"
      ],
      "metadata": {
        "id": "5lJE74XI1DL6"
      },
      "execution_count": null,
      "outputs": []
    },
    {
      "cell_type": "code",
      "source": [
        "def preprocess_640_gray(img):\n",
        "  target_width=640\n",
        "  scale=target_width/img.shape[1]\n",
        "  target_height=int(scale*img.shape[0])\n",
        "  img=cv2.resize(img,(target_width,target_height))\n",
        "  img=cv2.cvtColor(img,cv2.COLOR_BGR2GRAY)\n",
        "  return img"
      ],
      "metadata": {
        "id": "psCzPUru1J9I"
      },
      "execution_count": 5,
      "outputs": []
    },
    {
      "cell_type": "code",
      "source": [
        "from ultralytics import YOLO\n",
        "model = YOLO(\"/content/yolo11cls_manta_640_grayscale.pt\")\n",
        "classes=['manta','non manta']"
      ],
      "metadata": {
        "colab": {
          "base_uri": "https://localhost:8080/"
        },
        "id": "Sf7v-zHo1hMx",
        "outputId": "f2f80389-35ab-4f61-e957-6e186b5af839"
      },
      "execution_count": 6,
      "outputs": [
        {
          "output_type": "stream",
          "name": "stdout",
          "text": [
            "Creating new Ultralytics Settings v0.0.6 file ✅ \n",
            "View Ultralytics Settings with 'yolo settings' or at '/root/.config/Ultralytics/settings.json'\n",
            "Update Settings with 'yolo settings key=value', i.e. 'yolo settings runs_dir=path/to/dir'. For help see https://docs.ultralytics.com/quickstart/#ultralytics-settings.\n"
          ]
        }
      ]
    },
    {
      "cell_type": "code",
      "source": [
        "\n",
        "scores=[]\n",
        "gt=[]\n",
        "filenames_test=[]\n",
        "\n",
        "folder='mantatrust_test/manta'\n",
        "files=sorted(os.listdir(folder))\n",
        "ct=0\n",
        "for f in files:\n",
        "    if ct%100==0:\n",
        "      print(ct,len(files))\n",
        "    filename_fullpath=folder+'/'+f\n",
        "    img=cv2.imread(filename_fullpath)\n",
        "    img=preprocess_640_gray(img)\n",
        "    results = model(img,verbose=False,augment=False)\n",
        "\n",
        "    score= round(float(results[0].probs.data[0]),3)\n",
        "    scores.append(score)\n",
        "    gt.append(1)\n",
        "    filenames_test.append(f)\n",
        "    ct+=1\n",
        "\n",
        "folder='mantatrust_test/non_manta'\n",
        "files=sorted(os.listdir(folder))\n",
        "ct=0\n",
        "for f in files:\n",
        "    if ct%100==0:\n",
        "      print(ct,len(files))\n",
        "    filename_fullpath=folder+'/'+f\n",
        "    img=cv2.imread(filename_fullpath)\n",
        "    img=preprocess_640_gray(img)\n",
        "    results = model(img,verbose=False,augment=False)\n",
        "    score=round(float(results[0].probs.data[0]),3)\n",
        "    scores.append(score)\n",
        "    gt.append(0)\n",
        "    filenames_test.append(f)\n",
        "    ct+=1"
      ],
      "metadata": {
        "colab": {
          "base_uri": "https://localhost:8080/"
        },
        "id": "hdKfu9RA1P-a",
        "outputId": "65a3d605-9e43-4df4-914f-1976082c2c2d"
      },
      "execution_count": 7,
      "outputs": [
        {
          "output_type": "stream",
          "name": "stdout",
          "text": [
            "0 198\n",
            "100 198\n",
            "0 3235\n",
            "100 3235\n",
            "200 3235\n",
            "300 3235\n",
            "400 3235\n",
            "500 3235\n",
            "600 3235\n",
            "700 3235\n",
            "800 3235\n",
            "900 3235\n",
            "1000 3235\n",
            "1100 3235\n",
            "1200 3235\n",
            "1300 3235\n",
            "1400 3235\n",
            "1500 3235\n",
            "1600 3235\n",
            "1700 3235\n",
            "1800 3235\n",
            "1900 3235\n",
            "2000 3235\n",
            "2100 3235\n",
            "2200 3235\n",
            "2300 3235\n",
            "2400 3235\n",
            "2500 3235\n",
            "2600 3235\n",
            "2700 3235\n",
            "2800 3235\n",
            "2900 3235\n",
            "3000 3235\n",
            "3100 3235\n",
            "3200 3235\n"
          ]
        }
      ]
    },
    {
      "cell_type": "code",
      "source": [
        "dict = {'filename': filenames_test, 'confidence score': scores, 'true class':gt }\n",
        "df = pd.DataFrame(dict)\n",
        "df.to_csv('yolo11cls_manta_640_grayscale.csv')"
      ],
      "metadata": {
        "id": "eJbEuWu51ngC"
      },
      "execution_count": 8,
      "outputs": []
    },
    {
      "cell_type": "code",
      "source": [
        "conf=df['confidence score'].to_numpy()\n",
        "gt=df['true class'].to_numpy()\n",
        "roc_auc = roc_auc_score(df['true class'],df['confidence score'])\n",
        "th=0.2\n",
        "pred=np.zeros_like(gt)\n",
        "pred[conf>th]=1\n",
        "\n",
        "\n",
        "y_test=gt\n",
        "y_probs=conf\n",
        "y_pred=pred\n",
        "\n",
        "roc_auc = roc_auc_score(y_test, y_probs)\n",
        "# Calculate other metrics\n",
        "accuracy = accuracy_score(y_test, y_pred)\n",
        "\n",
        "fpr, tpr, thresholds = roc_curve(y_test, y_probs)\n",
        "\n",
        "CM=confusion_matrix(y_test, y_pred)\n",
        "TN=CM[0,0]\n",
        "FP=CM[0,1]\n",
        "FN=CM[1,0]\n",
        "TP=CM[1,1]\n",
        "\n",
        "plt.plot(fpr, tpr)\n",
        "plt.xlabel('False Positive Rate')\n",
        "plt.ylabel('True Positive Rate')\n",
        "# Print the metrics\n",
        "print(f\"AUC - ROC Score: {roc_auc:.2f}\")\n",
        "print(f\"Accuracy: {accuracy:.2f}\")\n",
        "print('TRUE NEGATIVE',TN)\n",
        "print('FALSE POSITIVES',FP)\n",
        "print('FALSE NEGATIVE',FN)\n",
        "print('TRUE POSITIVES',TP)"
      ],
      "metadata": {
        "colab": {
          "base_uri": "https://localhost:8080/",
          "height": 553
        },
        "id": "RaiUPxO-1wDq",
        "outputId": "5719c456-b81a-4531-8bca-41067a268169"
      },
      "execution_count": 9,
      "outputs": [
        {
          "output_type": "stream",
          "name": "stdout",
          "text": [
            "AUC - ROC Score: 0.87\n",
            "Accuracy: 0.91\n",
            "TRUE NEGATIVE 2992\n",
            "FALSE POSITIVES 243\n",
            "FALSE NEGATIVE 50\n",
            "TRUE POSITIVES 148\n"
          ]
        },
        {
          "output_type": "display_data",
          "data": {
            "text/plain": [
              "<Figure size 640x480 with 1 Axes>"
            ],
            "image/png": "[encoded data removed]"
          },
          "metadata": {}
        }
      ]
    }
  ]
}